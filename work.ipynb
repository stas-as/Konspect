{
 "cells": [
  {
   "cell_type": "code",
   "execution_count": 1,
   "metadata": {},
   "outputs": [
    {
     "name": "stdout",
     "output_type": "stream",
     "text": [
      "hello Gor\n"
     ]
    }
   ],
   "source": [
    "import numpy as np\n",
    "print(\"hello Gor\")"
   ]
  },
  {
   "attachments": {},
   "cell_type": "markdown",
   "metadata": {},
   "source": [
    "## Start"
   ]
  },
  {
   "cell_type": "code",
   "execution_count": 2,
   "metadata": {},
   "outputs": [
    {
     "data": {
      "text/plain": [
       "''"
      ]
     },
     "execution_count": 2,
     "metadata": {},
     "output_type": "execute_result"
    }
   ],
   "source": [
    "b ='Мужчина , 39 лет , родился 27 ноября 1979' \n",
    "a ='Женщина , 21 год , родилась 13 января 2000'\n",
    "\n",
    "def age(x):\n",
    "    split_list = x.split(sep=',')\n",
    "    number = split_list[1].split(sep=' ')\n",
    "    value = number[0]\n",
    "    return value\n",
    "\n",
    "age(a)"
   ]
  },
  {
   "cell_type": "code",
   "execution_count": 3,
   "metadata": {},
   "outputs": [
    {
     "name": "stdout",
     "output_type": "stream",
     "text": [
      "yes\n"
     ]
    }
   ],
   "source": [
    "x = np.NaN\n",
    "\n",
    "if x is np.NaN:\n",
    "    print('yes')"
   ]
  },
  {
   "cell_type": "code",
   "execution_count": 4,
   "metadata": {},
   "outputs": [
    {
     "data": {
      "text/plain": [
       "nan"
      ]
     },
     "execution_count": 4,
     "metadata": {},
     "output_type": "execute_result"
    }
   ],
   "source": [
    "x"
   ]
  },
  {
   "cell_type": "code",
   "execution_count": 5,
   "metadata": {},
   "outputs": [],
   "source": [
    "def wor_number(x):\n",
    "    if x is np.NaN:\n",
    "        return x\n",
    "    split_list = x.split(sep=' ')\n",
    "    lens = len(split_list)\n",
    "    for i in range(0,lens):\n",
    "        if split_list[i] == 'четыре':\n",
    "            split_list[i] = 4"
   ]
  },
  {
   "cell_type": "code",
   "execution_count": 6,
   "metadata": {},
   "outputs": [
    {
     "name": "stdout",
     "output_type": "stream",
     "text": [
      "False\n"
     ]
    }
   ],
   "source": [
    "a = \"Советск (Калининградская область) , не готов к переезду , не готов к командировкам\"\n",
    "\n",
    "def sity(x):\n",
    "    if x is np.NaN:\n",
    "        return x\n",
    "    million_cities = ['Новосибирск', 'Екатеринбург','Нижний Новгород','Казань', 'Челябинск','Омск', 'Самара', 'Ростов-на-Дону', 'Уфа', 'Красноярск', 'Пермь', 'Воронеж','Волгоград']\n",
    "    stolica = [\"Москва\", \"Санкт-Петербург\"]\n",
    "    split_sity = x.split(sep=\",\")\n",
    "    sity_result = split_sity[0]\n",
    "    result = sity_result.split(sep=' ')\n",
    "    value = result[0]\n",
    "    if value in million_cities:\n",
    "        return \"город-миллионник\"\n",
    "    elif value in stolica:\n",
    "        return value\n",
    "    else:\n",
    "        return \"другие\"\n",
    "\n",
    "def relocation(x):\n",
    "    if x is np.NaN:\n",
    "        return x\n",
    "    split_sity = x.split(sep=\",\")\n",
    "    if len(split_sity) == 3:\n",
    "        relocation_result = split_sity[1]\n",
    "    else:\n",
    "        relocation_result = split_sity[2]\n",
    "    result = relocation_result.split(sep=' ')\n",
    "    value = result[1]\n",
    "    if value == 'не':\n",
    "        return False\n",
    "    else:\n",
    "        return True\n",
    "\n",
    "\n",
    "def comandirovka(x):\n",
    "    if x is np.NaN:\n",
    "        return x\n",
    "    split_sity = x.split(sep=\",\")\n",
    "    if len(split_sity) == 3:\n",
    "        relocation_result = split_sity[2]\n",
    "    else:\n",
    "        relocation_result = split_sity[3]\n",
    "    result = relocation_result.split(sep=' ')\n",
    "    value = result[1]\n",
    "    if value == 'не':\n",
    "        return False\n",
    "    else:\n",
    "        return True\n",
    "        \n",
    "        \n",
    "\n",
    "print(comandirovka(a))"
   ]
  },
  {
   "cell_type": "code",
   "execution_count": 7,
   "metadata": {},
   "outputs": [
    {
     "data": {
      "text/plain": [
       "'м'"
      ]
     },
     "execution_count": 7,
     "metadata": {},
     "output_type": "execute_result"
    }
   ],
   "source": [
    "a[-1]"
   ]
  }
 ],
 "metadata": {
  "kernelspec": {
   "display_name": "Python 3",
   "language": "python",
   "name": "python3"
  },
  "language_info": {
   "codemirror_mode": {
    "name": "ipython",
    "version": 3
   },
   "file_extension": ".py",
   "mimetype": "text/x-python",
   "name": "python",
   "nbconvert_exporter": "python",
   "pygments_lexer": "ipython3",
   "version": "3.9.13"
  },
  "orig_nbformat": 4,
  "vscode": {
   "interpreter": {
    "hash": "8f8cf99212f81ad0c4765861267244807ee1c18364846cdce387b28994a977ba"
   }
  }
 },
 "nbformat": 4,
 "nbformat_minor": 2
}
