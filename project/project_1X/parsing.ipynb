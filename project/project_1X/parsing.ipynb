{
 "cells": [
  {
   "cell_type": "code",
   "execution_count": 68,
   "metadata": {},
   "outputs": [
    {
     "ename": "ValueError",
     "evalue": "cannot set a row with mismatched columns",
     "output_type": "error",
     "traceback": [
      "\u001b[1;31m---------------------------------------------------------------------------\u001b[0m",
      "\u001b[1;31mValueError\u001b[0m                                Traceback (most recent call last)",
      "Cell \u001b[1;32mIn[68], line 117\u001b[0m\n\u001b[0;32m    114\u001b[0m     coficient_result \u001b[39m=\u001b[39m cof_func(coficient)\n\u001b[0;32m    115\u001b[0m     lister\u001b[39m.\u001b[39mextend(coficient_result)\n\u001b[1;32m--> 117\u001b[0m     df\u001b[39m.\u001b[39;49mloc[\u001b[39mlen\u001b[39;49m(df)] \u001b[39m=\u001b[39m lister\n\u001b[0;32m    118\u001b[0m df\n",
      "File \u001b[1;32mc:\\Users\\Lenovo\\AppData\\Local\\Programs\\Python\\Python39\\lib\\site-packages\\pandas\\core\\indexing.py:818\u001b[0m, in \u001b[0;36m_LocationIndexer.__setitem__\u001b[1;34m(self, key, value)\u001b[0m\n\u001b[0;32m    815\u001b[0m \u001b[39mself\u001b[39m\u001b[39m.\u001b[39m_has_valid_setitem_indexer(key)\n\u001b[0;32m    817\u001b[0m iloc \u001b[39m=\u001b[39m \u001b[39mself\u001b[39m \u001b[39mif\u001b[39;00m \u001b[39mself\u001b[39m\u001b[39m.\u001b[39mname \u001b[39m==\u001b[39m \u001b[39m\"\u001b[39m\u001b[39miloc\u001b[39m\u001b[39m\"\u001b[39m \u001b[39melse\u001b[39;00m \u001b[39mself\u001b[39m\u001b[39m.\u001b[39mobj\u001b[39m.\u001b[39miloc\n\u001b[1;32m--> 818\u001b[0m iloc\u001b[39m.\u001b[39;49m_setitem_with_indexer(indexer, value, \u001b[39mself\u001b[39;49m\u001b[39m.\u001b[39;49mname)\n",
      "File \u001b[1;32mc:\\Users\\Lenovo\\AppData\\Local\\Programs\\Python\\Python39\\lib\\site-packages\\pandas\\core\\indexing.py:1785\u001b[0m, in \u001b[0;36m_iLocIndexer._setitem_with_indexer\u001b[1;34m(self, indexer, value, name)\u001b[0m\n\u001b[0;32m   1782\u001b[0m     indexer, missing \u001b[39m=\u001b[39m convert_missing_indexer(indexer)\n\u001b[0;32m   1784\u001b[0m     \u001b[39mif\u001b[39;00m missing:\n\u001b[1;32m-> 1785\u001b[0m         \u001b[39mself\u001b[39;49m\u001b[39m.\u001b[39;49m_setitem_with_indexer_missing(indexer, value)\n\u001b[0;32m   1786\u001b[0m         \u001b[39mreturn\u001b[39;00m\n\u001b[0;32m   1788\u001b[0m \u001b[39mif\u001b[39;00m name \u001b[39m==\u001b[39m \u001b[39m\"\u001b[39m\u001b[39mloc\u001b[39m\u001b[39m\"\u001b[39m:\n\u001b[0;32m   1789\u001b[0m     \u001b[39m# must come after setting of missing\u001b[39;00m\n",
      "File \u001b[1;32mc:\\Users\\Lenovo\\AppData\\Local\\Programs\\Python\\Python39\\lib\\site-packages\\pandas\\core\\indexing.py:2160\u001b[0m, in \u001b[0;36m_iLocIndexer._setitem_with_indexer_missing\u001b[1;34m(self, indexer, value)\u001b[0m\n\u001b[0;32m   2157\u001b[0m     \u001b[39mif\u001b[39;00m is_list_like_indexer(value):\n\u001b[0;32m   2158\u001b[0m         \u001b[39m# must have conforming columns\u001b[39;00m\n\u001b[0;32m   2159\u001b[0m         \u001b[39mif\u001b[39;00m \u001b[39mlen\u001b[39m(value) \u001b[39m!=\u001b[39m \u001b[39mlen\u001b[39m(\u001b[39mself\u001b[39m\u001b[39m.\u001b[39mobj\u001b[39m.\u001b[39mcolumns):\n\u001b[1;32m-> 2160\u001b[0m             \u001b[39mraise\u001b[39;00m \u001b[39mValueError\u001b[39;00m(\u001b[39m\"\u001b[39m\u001b[39mcannot set a row with mismatched columns\u001b[39m\u001b[39m\"\u001b[39m)\n\u001b[0;32m   2162\u001b[0m     value \u001b[39m=\u001b[39m Series(value, index\u001b[39m=\u001b[39m\u001b[39mself\u001b[39m\u001b[39m.\u001b[39mobj\u001b[39m.\u001b[39mcolumns, name\u001b[39m=\u001b[39mindexer)\n\u001b[0;32m   2164\u001b[0m \u001b[39mif\u001b[39;00m \u001b[39mnot\u001b[39;00m \u001b[39mlen\u001b[39m(\u001b[39mself\u001b[39m\u001b[39m.\u001b[39mobj):\n\u001b[0;32m   2165\u001b[0m     \u001b[39m# We will ignore the existing dtypes instead of using\u001b[39;00m\n\u001b[0;32m   2166\u001b[0m     \u001b[39m#  internals.concat logic\u001b[39;00m\n",
      "\u001b[1;31mValueError\u001b[0m: cannot set a row with mismatched columns"
     ]
    }
   ],
   "source": [
    "import pandas as pd\n",
    "import requests\n",
    "from bs4 import BeautifulSoup\n",
    "from time import sleep\n",
    "\n",
    "df = pd.read_csv('data/table_matches_new.csv')\n",
    "df = df.drop(columns=['Unnamed: 0'])\n",
    "count = 6865 \n",
    "while count != 7122 :\n",
    "    count += 1\n",
    "    if (count % 2) == 0:\n",
    "        sleep(1)\n",
    "    sleep(1)\n",
    "    url = f\"https://soccer365.ru/games/173{count}/\"\n",
    "\n",
    "    response = requests.get(url)\n",
    "\n",
    "    soup = BeautifulSoup(response.text,'lxml')\n",
    "\n",
    "    title = [\"общая информация\",\"Дата\",'Команда1',\"счет1\",'Команда2',\"счет2\",\"xG1\",\"xG2\",\"Удары1\",\"Удары2\",'Удары в створ1','Удары в створ2','Сейвы1','Сейвы2','Владение %1','Владение %2','Угловые1','Угловые2','Нарушения1','Нарушения2','Офсайды1','Офсайды2','Желтые карточки1','Желтые карточки2','Красные карточки1','Красные карточки2','Атаки1','Атаки2','Опасные атаки1','Опасные атаки2','Передачи1','Передачи2','Точность передач %1','Точность передач %2','Штрафные удары1','Штрафные удары2','Вбрасывания1','Вбрасывания2','Навесы1','Навесы2','Температура',\"Признак погоды\",'дата ПМ1','Пголы1',\"Пза матч1\",\"Ппобед1\",\"Пничьи1\",\"Ппорож1\",'дата ПМ2','Пголы2',\"Пза матч2\",\"Ппобед2\",\"Пничьи2\",\"Ппорож2\",\"поб1\",\"X\",\"поб2\",\"ТМ 2.5\",\"ТБ 2.5\"]\n",
    "    lister = list()\n",
    "\n",
    "    #Общая инфа и время матча\n",
    "    data = soup.find(\"div\",class_=\"block_header bkcenter\").text.replace(\"\\n\",\"\")\n",
    "    date_list = data.split()\n",
    "    date_time = date_list[-2] + ' ' + date_list[-1]\n",
    "    lister.append(data)\n",
    "    lister.append(date_time)\n",
    "\n",
    "    #Название команд и счет\n",
    "\n",
    "    result_match_1= soup.find(\"div\",class_=\"live_game left\")\n",
    "    result_match_2= soup.find(\"div\",class_=\"live_game right\")\n",
    "\n",
    "    name_1_com = result_match_1.find(\"div\",class_=\"live_game_ht\").text.replace(\"\\n\",\"\")\n",
    "    goal_1_com = result_match_1.find(\"div\",class_=\"live_game_goal\").text.replace(\"\\n\",\"\")\n",
    "\n",
    "    name_2_com = result_match_2.find(\"div\",class_=\"live_game_at\").text.replace(\"\\n\",\"\")\n",
    "    goal_2_com = result_match_2.find(\"div\",class_=\"live_game_goal\").text.replace(\"\\n\",\"\")\n",
    "    lister.append(name_1_com)\n",
    "    lister.append(goal_1_com)\n",
    "    lister.append(name_2_com)\n",
    "    lister.append(goal_2_com)\n",
    "\n",
    "    #основные  данные о матче\n",
    "    gm_block= soup.find(\"div\",class_=\"block_body\")\n",
    "\n",
    "    result_matches_1 = gm_block.find_all(\"div\",class_=\"stats_items\")[0]\n",
    "    result_table_matches_1 = result_matches_1.find_all(\"div\", class_=\"stats_inf\")\n",
    "    for i in (result_table_matches_1):\n",
    "        lister.append(float(i.text))\n",
    "\n",
    "\n",
    "    result_matches_2 = gm_block.find_all(\"div\",class_=\"stats_items\")[1]\n",
    "    result_table_matches_2 = result_matches_2.find_all(\"div\", class_=\"stats_inf\")\n",
    "    if len(result_table_matches_2) == 16:\n",
    "        for j in (result_table_matches_2):\n",
    "            lister.append(float(j.text))\n",
    "    else :\n",
    "        result_table_matches_2 = result_table_matches_2[0:16]\n",
    "        for j in (result_table_matches_2):\n",
    "            lister.append(float(j.text))\n",
    "        \n",
    "    #Погода\n",
    "    preview_st = soup.find(\"div\",class_=\"preview_item st\")\n",
    "    temper = preview_st.find(\"span\",class_=\"red\").text\n",
    "\n",
    "    priznac_pog = preview_st.find_all(\"span\",class_=\"min_gray\")[1].text\n",
    "    lister.append(temper)\n",
    "    lister.append(priznac_pog)\n",
    "\n",
    "    #инфа за прошлые 5 матчей\n",
    "    preview_st = soup.find(\"div\",class_=\"gm_block inline-block\")\n",
    "    home_prewie = preview_st.find('div',class_='live_block_hf')\n",
    "    home_table = home_prewie.find('table',class_=\"game_form_team_stats\")\n",
    "\n",
    "    home_old_match = home_prewie.find('span', class_=\"size10\")\n",
    "    lister.append(home_old_match.text)\n",
    "\n",
    "    home_table_text = home_table.find_all('td')[1:6]\n",
    "    for i in (home_table_text):\n",
    "        lister.append(float(i.text))\n",
    "\n",
    "\n",
    "\n",
    "    atac_prewie = preview_st.find('div',class_='live_block_hf right')\n",
    "    atac_table = atac_prewie.find('table',class_=\"game_form_team_stats\")\n",
    "\n",
    "    atac_old_match = atac_prewie.find('span', class_=\"size10\")\n",
    "    lister.append(atac_old_match.text)\n",
    "\n",
    "    atac_table_text = atac_table.find_all('td')[1:6]\n",
    "    for j in (atac_table_text):\n",
    "        lister.append(float(j.text))\n",
    "        \n",
    "    #Коэфиценты\n",
    "    coeficent_all = soup.find_all(\"div\",class_=\"block_body_nopadding\")[3]\n",
    "    coficient = coeficent_all.find_all('div',class_='odds_item odds_logo')\n",
    "\n",
    "    def cof_func(coficient):\n",
    "        list_coef = list()\n",
    "        for i in coficient:\n",
    "            odds_coeff = i.find_all('div',class_='odds_coeff')\n",
    "            for j in odds_coeff:\n",
    "                if j == '\\n':\n",
    "                    continue\n",
    "                if j == '\\xa0':\n",
    "                    list_coef.clear()\n",
    "                    break\n",
    "                list_coef.append(float(j.text))\n",
    "            if len(list_coef) == 5:\n",
    "                return  list_coef  \n",
    "            \n",
    "    coficient_result = cof_func(coficient)\n",
    "    lister.extend(coficient_result)\n",
    "\n",
    "    df.loc[len(df)] = lister\n",
    "df"
   ]
  },
  {
   "cell_type": "code",
   "execution_count": 69,
   "metadata": {},
   "outputs": [
    {
     "data": {
      "text/plain": [
       "6933"
      ]
     },
     "execution_count": 69,
     "metadata": {},
     "output_type": "execute_result"
    }
   ],
   "source": [
    "count"
   ]
  },
  {
   "cell_type": "code",
   "execution_count": 70,
   "metadata": {},
   "outputs": [
    {
     "data": {
      "text/plain": [
       "1    24\n",
       "0    19\n",
       "2    13\n",
       "3     8\n",
       "4     2\n",
       "6     1\n",
       "5     1\n",
       "Name: счет2, dtype: int64"
      ]
     },
     "execution_count": 70,
     "metadata": {},
     "output_type": "execute_result"
    }
   ],
   "source": [
    "df['счет1'].value_counts()\n",
    "df['счет2'].value_counts()"
   ]
  },
  {
   "cell_type": "code",
   "execution_count": 71,
   "metadata": {},
   "outputs": [
    {
     "data": {
      "text/plain": [
       "солнечно                 64\n",
       "переменная облачность     3\n",
       "ясно                      1\n",
       "Name: Признак погоды, dtype: int64"
      ]
     },
     "execution_count": 71,
     "metadata": {},
     "output_type": "execute_result"
    }
   ],
   "source": [
    "df['Признак погоды'].value_counts()"
   ]
  },
  {
   "cell_type": "code",
   "execution_count": 72,
   "metadata": {},
   "outputs": [
    {
     "name": "stdout",
     "output_type": "stream",
     "text": [
      "<class 'pandas.core.frame.DataFrame'>\n",
      "Int64Index: 68 entries, 0 to 67\n",
      "Data columns (total 59 columns):\n",
      " #   Column               Non-Null Count  Dtype  \n",
      "---  ------               --------------  -----  \n",
      " 0   общая информация     68 non-null     object \n",
      " 1   Дата                 68 non-null     object \n",
      " 2   Команда1             68 non-null     object \n",
      " 3   счет1                68 non-null     object \n",
      " 4   Команда2             68 non-null     object \n",
      " 5   счет2                68 non-null     object \n",
      " 6   xG1                  68 non-null     float64\n",
      " 7   xG2                  68 non-null     float64\n",
      " 8   Удары1               68 non-null     float64\n",
      " 9   Удары2               68 non-null     float64\n",
      " 10  Удары в створ1       68 non-null     float64\n",
      " 11  Удары в створ2       68 non-null     float64\n",
      " 12  Сейвы1               68 non-null     float64\n",
      " 13  Сейвы2               68 non-null     float64\n",
      " 14  Владение %1          68 non-null     float64\n",
      " 15  Владение %2          68 non-null     float64\n",
      " 16  Угловые1             68 non-null     float64\n",
      " 17  Угловые2             68 non-null     float64\n",
      " 18  Нарушения1           68 non-null     float64\n",
      " 19  Нарушения2           68 non-null     float64\n",
      " 20  Офсайды1             68 non-null     float64\n",
      " 21  Офсайды2             68 non-null     float64\n",
      " 22  Желтые карточки1     68 non-null     float64\n",
      " 23  Желтые карточки2     68 non-null     float64\n",
      " 24  Красные карточки1    68 non-null     float64\n",
      " 25  Красные карточки2    68 non-null     float64\n",
      " 26  Атаки1               68 non-null     float64\n",
      " 27  Атаки2               68 non-null     float64\n",
      " 28  Опасные атаки1       68 non-null     float64\n",
      " 29  Опасные атаки2       68 non-null     float64\n",
      " 30  Передачи1            68 non-null     float64\n",
      " 31  Передачи2            68 non-null     float64\n",
      " 32  Точность передач %1  68 non-null     float64\n",
      " 33  Точность передач %2  68 non-null     float64\n",
      " 34  Штрафные удары1      68 non-null     float64\n",
      " 35  Штрафные удары2      68 non-null     float64\n",
      " 36  Вбрасывания1         68 non-null     float64\n",
      " 37  Вбрасывания2         68 non-null     float64\n",
      " 38  Навесы1              68 non-null     float64\n",
      " 39  Навесы2              68 non-null     float64\n",
      " 40  Температура          68 non-null     object \n",
      " 41  Признак погоды       68 non-null     object \n",
      " 42  дата ПМ1             68 non-null     object \n",
      " 43  Пголы1               68 non-null     float64\n",
      " 44  Пза матч1            68 non-null     float64\n",
      " 45  Ппобед1              68 non-null     float64\n",
      " 46  Пничьи1              68 non-null     float64\n",
      " 47  Ппорож1              68 non-null     float64\n",
      " 48  дата ПМ2             68 non-null     object \n",
      " 49  Пголы2               68 non-null     float64\n",
      " 50  Пза матч2            68 non-null     float64\n",
      " 51  Ппобед2              68 non-null     float64\n",
      " 52  Пничьи2              68 non-null     float64\n",
      " 53  Ппорож2              68 non-null     float64\n",
      " 54  поб1                 68 non-null     float64\n",
      " 55  X                    68 non-null     float64\n",
      " 56  поб2                 68 non-null     float64\n",
      " 57  ТМ 2.5               68 non-null     float64\n",
      " 58  ТБ 2.5               68 non-null     float64\n",
      "dtypes: float64(49), object(10)\n",
      "memory usage: 33.9+ KB\n"
     ]
    }
   ],
   "source": [
    "df.info()"
   ]
  },
  {
   "cell_type": "code",
   "execution_count": 73,
   "metadata": {},
   "outputs": [],
   "source": [
    "#df.to_csv('data/table_matches40.csv')"
   ]
  }
 ],
 "metadata": {
  "kernelspec": {
   "display_name": "Python 3",
   "language": "python",
   "name": "python3"
  },
  "language_info": {
   "codemirror_mode": {
    "name": "ipython",
    "version": 3
   },
   "file_extension": ".py",
   "mimetype": "text/x-python",
   "name": "python",
   "nbconvert_exporter": "python",
   "pygments_lexer": "ipython3",
   "version": "3.9.13"
  },
  "orig_nbformat": 4
 },
 "nbformat": 4,
 "nbformat_minor": 2
}
