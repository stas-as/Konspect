{
 "cells": [
  {
   "cell_type": "code",
   "execution_count": null,
   "metadata": {},
   "outputs": [],
   "source": [
    "import requests\n",
    "from pprint import pprint\n",
    "import pandas as pd\n",
    "from bs4 import BeautifulSoup"
   ]
  },
  {
   "attachments": {},
   "cell_type": "markdown",
   "metadata": {},
   "source": [
    "https://api.vk.com/method/users.get?user_id=1&v=5.95&fields=sex,bdate&access_token=72fbc2a172fbc2a172fbc2a13571e8b7cd772fb72fbc2a116d4050f3ae4f1461555ad89\n",
    "\n",
    "https://api.vk.com/method/users.get?user_id=1&v=5.95&access_token=72fbc2a172fbc2a172fbc2a13571e8b7cd772fb72fbc2a116d4050f3ae4f1461555ad89"
   ]
  },
  {
   "cell_type": "code",
   "execution_count": null,
   "metadata": {},
   "outputs": [],
   "source": [
    "token = '72fbc2a172fbc2a172fbc2a13571e8b7cd772fb72fbc2a116d4050f3ae4f1461555ad89'\n",
    "url = 'https://api.vk.com/method/users.get'\n",
    "params = {'user_id': 439107982, 'v': 5.95, 'fields': 'sex,bdate', 'access_token': token, 'lang': 'ru'} \n",
    "response = requests.get(url, params=params) \n",
    "display(response.text)"
   ]
  },
  {
   "cell_type": "code",
   "execution_count": null,
   "metadata": {},
   "outputs": [],
   "source": [
    "pprint(response.json())"
   ]
  },
  {
   "cell_type": "code",
   "execution_count": null,
   "metadata": {},
   "outputs": [],
   "source": [
    "user = response.json()['response'][0]\n",
    "display(user['bdate'])"
   ]
  },
  {
   "cell_type": "code",
   "execution_count": null,
   "metadata": {},
   "outputs": [],
   "source": [
    "ids = \",\".join(map(str, range(1, 500)))\n",
    "params = {'user_ids': ids, 'v': 5.95, 'fields': 'sex,bdate', 'access_token': token, 'lang': 'ru'}\n",
    "data = requests.get(url, params=params).json()\n",
    "data = data['response']\n",
    "data = pd.DataFrame(data)\n",
    "num = round(data[data['sex'] == 1].shape[0] / data[data['sex'] != 0].shape[0],2)\n",
    "num"
   ]
  },
  {
   "cell_type": "code",
   "execution_count": null,
   "metadata": {},
   "outputs": [],
   "source": [
    "\n",
    "token = '72fbc2a172fbc2a172fbc2a13571e8b7cd772fb72fbc2a116d4050f3ae4f1461555ad89' # Указываем свой сервисный токен\n",
    "url = 'https://api.vk.com/method/groups.getMembers' # Указываем адрес обращения\n",
    "params = {'group_id': 'vk', 'v': 5.95, 'access_token': token} # Формируем строку параметров\n",
    "response = requests.get(url, params = params) # Посылаем запрос\n",
    "data = response.json() # Ответ сохраняем в переменной data в формате словаря\n",
    "print(data) # Выводим содержимое переменной data на экран (отображён фрагмент)"
   ]
  },
  {
   "cell_type": "code",
   "execution_count": null,
   "metadata": {},
   "outputs": [],
   "source": [
    "print(len(data['response']['items'])) "
   ]
  },
  {
   "cell_type": "code",
   "execution_count": null,
   "metadata": {},
   "outputs": [],
   "source": [
    "token = '72fbc2a172fbc2a172fbc2a13571e8b7cd772fb72fbc2a116d4050f3ae4f1461555ad89' # Указываем свой сервисный токен\n",
    "url = 'https://api.vk.com/method/groups.getMembers' # Указываем адрес обращения\n",
    "params = {'group_id': 'oroom', 'v': 5.95, 'access_token': token} # Формируем строку параметров\n",
    "response = requests.get(url, params = params) # Посылаем запрос\n",
    "data = response.json() # Ответ сохраняем в переменной data в формате словаря\n",
    "print(data) # Выводим содержимое переменной data на экран (отображён фрагмент)"
   ]
  },
  {
   "attachments": {},
   "cell_type": "markdown",
   "metadata": {},
   "source": [
    "Мы видим, что всего пользователей в группе больше 11 миллионов, а получили мы только первую тысячу пользователей группы. По информации, указанной в документации о параметре count, это максимум, который может отдать API за один раз.\n",
    "\n",
    "Для получения следующей тысячи пользователей можно воспользоваться параметром offset (с англ. смещение), который передвинет начало отсчёта. Для выгрузки всех пользователей группы будем в цикле выгружать по 1000 пользователей (count будет всегда равен 1000), увеличивая смещение offset на величину count.\n",
    "\n",
    "Для тренировки напишем цикл выгрузки первых 20 пользователей со значением count=5. Иными словами, мы будем выгружать по пять пользователей за запрос до тех пор, пока не получим информацию о 20 пользователях.\n",
    "\n",
    "Давайте выведем на экран первые 20 пользователей из нашей первой попытки получить информацию о 1000 пользователей, чтобы мы могли сверить результат выгрузки из 20 пользователей:"
   ]
  },
  {
   "cell_type": "code",
   "execution_count": 12,
   "metadata": {},
   "outputs": [
    {
     "name": "stdout",
     "output_type": "stream",
     "text": [
      "Выгружаю 5 пользователей с offset = 0\n",
      "Выгружаю 5 пользователей с offset = 5\n",
      "Выгружаю 5 пользователей с offset = 10\n",
      "Выгружаю 5 пользователей с offset = 15\n",
      "[47, 79, 177, 332, 347, 348, 404, 436, 485, 595, 619, 628, 669, 819, 914, 985, 1018, 1058, 1131, 1185]\n"
     ]
    }
   ],
   "source": [
    "\n",
    "url = 'https://api.vk.com/method/groups.getMembers' # Указываем адрес обращения\n",
    "count = 5 \n",
    "offset = 0 \n",
    "user_ids = [] \n",
    "max_count = 20 \n",
    "\n",
    "while max_count > offset:\n",
    "    # Будем выгружать по count=5 пользователей, \n",
    "    # начиная с того места, где закончили на предыдущей итерации (offset) \n",
    "    print('Выгружаю {} пользователей с offset = {}'.format(count, offset))   \n",
    "    params = {'group_id': 'oroom', 'v': 5.95, 'count': count, 'offset': offset, 'access_token': token} \n",
    "    response = requests.get(url,params=params)\n",
    "    data = response.json() \n",
    "    user_ids += data['response']['items'] \n",
    "    # Увеличиваем смещение на количество строк, которое мы уже выгрузили \n",
    "    offset += count \n",
    "print(user_ids) "
   ]
  },
  {
   "cell_type": "code",
   "execution_count": null,
   "metadata": {},
   "outputs": [],
   "source": []
  }
 ],
 "metadata": {
  "kernelspec": {
   "display_name": "Python 3",
   "language": "python",
   "name": "python3"
  },
  "language_info": {
   "codemirror_mode": {
    "name": "ipython",
    "version": 3
   },
   "file_extension": ".py",
   "mimetype": "text/x-python",
   "name": "python",
   "nbconvert_exporter": "python",
   "pygments_lexer": "ipython3",
   "version": "3.9.13"
  },
  "orig_nbformat": 4
 },
 "nbformat": 4,
 "nbformat_minor": 2
}
